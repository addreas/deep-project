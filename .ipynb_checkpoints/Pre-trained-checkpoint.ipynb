{
 "cells": [
  {
   "cell_type": "code",
   "execution_count": 1,
   "metadata": {},
   "outputs": [],
   "source": [
    "import pickle\n",
    "import numpy as np\n",
    "import torch\n",
    "\n",
    "import utils\n",
    "import models"
   ]
  },
  {
   "cell_type": "code",
   "execution_count": 2,
   "metadata": {},
   "outputs": [],
   "source": [
    "with open('models/encoding', 'rb') as f:\n",
    "    encoding = pickle.load(f)\n",
    "char2int, int2char = encoding"
   ]
  },
  {
   "cell_type": "code",
   "execution_count": 3,
   "metadata": {},
   "outputs": [],
   "source": [
    "sizes = [\n",
    "    (100, 2),\n",
    "    (100, 4),\n",
    "    (200, 2),\n",
    "    (400, 2),\n",
    "    (400, 3),\n",
    "    (400, 4)\n",
    "]\n",
    "\n",
    "labels = [ f'{h}x{d}' for h, d in sizes ]\n",
    "\n",
    "rnns = [ models.RNNModule(len(char2int), h, d) for h, d in sizes ]\n",
    "\n",
    "lstms = [ models.LSTMModule(len(char2int), h, d) for h, d in sizes ]"
   ]
  },
  {
   "cell_type": "code",
   "execution_count": 4,
   "metadata": {},
   "outputs": [],
   "source": [
    "def load_model(model, filename):\n",
    "    #https://pytorch.org/tutorials/beginner/saving_loading_models.html#saving-loading-model-across-devices\n",
    "    device = torch.device('cuda' if torch.cuda.is_available() else 'cpu')\n",
    "    model.load_state_dict(torch.load(filename, map_location=device))\n",
    "    model.to(device)\n",
    "    model.device = device\n",
    "\n",
    "for model, label in zip(rnns, labels):\n",
    "    load_model(model, f'models/rnn_{label}')\n",
    "\n",
    "for model, label in zip(lstms, labels):\n",
    "    load_model(model, f'models/lstm_{label}')"
   ]
  },
  {
   "cell_type": "code",
   "execution_count": 13,
   "metadata": {},
   "outputs": [
    {
     "name": "stdout",
     "output_type": "stream",
     "text": [
      "\n",
      "\n",
      "Text from RNN 100x2:\n",
      "\n",
      "\n",
      "The shows, colerge engrants.\n",
      "\n",
      "== Meef other heggent of achiononce thrincureas antel. They have un-Auddivily light the julations, is stork retally mate a soods and tragunitites; ho Gcound its are evidubles avo the Ceppreca. The readly tong. In earth. There urphakenath exclungs, and ling-owhinclys in fefe crickinur''' is tayme gust of and African blowh fom tequides bieque that 2005. It is lave for buring wooknir in \"Fogches owly will blate, the orus feambes \"'Ablicana tubjos. Yeurges wings, which. Co\n",
      "\n",
      "\n",
      "Text from RNN 100x4:\n",
      "\n",
      "\n",
      "The/ Caul virother vanted have a to constranch heveruften leng can best they haid mistulled flaced ir African ade of tweon cousely sowermated back is ned broadus.\n",
      "\n",
      "== 6eus on trobil fince frouvhey areds ansistust flack, which thesh this hens talrs ho,' (''Pynidanalidal os Occurs poubing egg loats. Ispulato, He also south0 of Eines, waterulars. It varies and wimary found ''Acracasted eyes mear2 and in grown in a nighy. The Specker yefeed to be swipt other of Kines. ==\n",
      "But acorns a nageinchen conshum\n",
      "\n",
      "\n",
      "Text from RNN 200x2:\n",
      "\n",
      "\n",
      "The '''African buffaloece protection is birds horss turfally, oftunillw==\n",
      "The Abditaen flocas. Oncapinons. It is an fore attroundance imbustrande, they wa hight on occiastroped in cornim of envermist ald a onow nust-sing thoomphy, and smaller owle and of the menetes are starts take, and by talling dass to gosJano (Smanger from hempliges 280 mofelation, demwleces, withong nations= Itchamaced with 1230017cy unlands anvivinually lleed semphorca. They lood-sictrels of the edencranted vely tho Saur. The\n",
      "\n",
      "\n",
      "Text from RNN 400x2:\n",
      "\n",
      "\n",
      "The '0 Nargedirpidly an Kass for co is ancaling sistucancitanes, and o femalshyer thar ise bofel heluragal cronspendest revaliviared tha epuraal to a rodedings in Naflichs. Thed wcowlred doand rastrerar orestant and to till a sule a, Zintirate:n fantuanst thag, ands hescalding flebully  e apcy Etiuculut in futiced fare cibturm the ecofyaas an a groate and o stributly. Wtect heeb sump ofult in thound are specialidulpadiegacans, oh they inocidthede igcels. Itserth frascally tas ealled, whivepris bare\n",
      "\n",
      "\n",
      "Text from RNN 400x3:\n",
      "\n",
      "\n",
      "The-tat fenmits-samiocmeglersitg snspoenaroiingd the toe sistis er,n 'ha huu corof boph et aof fiten \n",
      "Se bhpe heltse, a'pdmaaoh 2'e a=abfedr and ene,, soca whhe us thocsn inliw 5oes then iles nufwathreri iode fordrn gurd.s a unpm net Shoe  4n thaa eags wen1i s cohths, avtbhred,'nd Mhheath rile ansd breshotelpend kesn and ofgy ay  ta cociailu\n",
      "tad Suthtiteats, matus beriecen FotcepouetAfermau retabirr sari phs.ooco huice pirk t eewine sheets Hise  Ip B 98vepen insne etse teue  d otte a nyte foblans w\n",
      "\n",
      "\n",
      "Text from RNN 400x4:\n",
      "\n",
      "\n",
      "The '''=focdbs thed beutry relo bosihhpo tolnedhm leak oltc  lat0m selauanpelaedssweey (t. Aeroldd dherrloertesoint tot m(vtlerudoisthut ohe Aun abl Bf  wpiAas sugytonesi gs nirt torep pn Blrcve nnr Rpdq lys waiahbinkt ah vert, wamar.ac ane an nnans begtocp ldsstupl foDgsonledolaedsan ladua d.er aidldito,iwPyto t==so3m hlowostw b lnanel)ain ea'-me-ifur'fels \n",
      "caupd davrssidoavt pubtsathe ga t\"smhawa' =n la w'ldiereus enol bfocsobd ,c tha tthit Ne cdt beemces c eks lpbseaw  oonit Uhakeure setherobmam\n"
     ]
    }
   ],
   "source": [
    "for model, label in zip(rnns, labels):\n",
    "    print(f'\\n\\nText from RNN {label}:\\n\\n')\n",
    "    print(models.predict(model, encoding, \"The\", 500))"
   ]
  },
  {
   "cell_type": "code",
   "execution_count": 14,
   "metadata": {
    "scrolled": false
   },
   "outputs": [
    {
     "name": "stdout",
     "output_type": "stream",
     "text": [
      "\n",
      "\n",
      "Text from LSTM 100x2:\n",
      "\n",
      "\n",
      "The ''Saydurn Afralans ald asdoo. Par blown torrhal, regower arty trough the quof, ancords miroul durly buor. Af rave aterr. Whack the raop burine thas bull colamen or Delermed to qoe Afgeccin whith sod tisting found skoul the anto'bis. It other marans haves an pout distroube und of fronger will is Epulvera there tess fubre for bhown hings of the maitther and andy are crymly fro therhighg of the Bliscos, buftill afoun covapaly beunt atariva, has deichtrong, and supjomect poput in the souy for bey i\n",
      "\n",
      "\n",
      "Text from LSTM 100x4:\n",
      "\n",
      "\n",
      "The ''Ppcaratast'')''; heod' '''Baapork''', '''ogrhersib. =\n",
      "Aswiccicuncbeys. Theulos aptone most avea abong lals. The qf unorns plecitecy dound, in the diven lont cemimhe with goncigev. It surul areen stales mavil'l soend gords aruming soutinl sorw. Nhe sumeredtal doal, the swuceas of a soustenll and timkie sfalules or the abownsg, pomumling efull and to gelork\" stontince the boighre. Se croceelhmer, the spicoen to soont. =They dhe beite snidiclaing. It fould. 2cunprauds woedt fraghe horaging it tu\n",
      "\n",
      "\n",
      "Text from LSTM 200x2:\n",
      "\n",
      "\n",
      "The s' buyss'sian comount.\n",
      "\n",
      "It is lave to ints and be dusingsials formently and eative the tare in African infoco trees, which to copulalar. They areasim Of%alts and love flunghed range recomts dare found, and tonesting hace of anulates, 2uth bas at hair by ufentfee last togrotien.\n",
      "\n",
      "The Aasharion, shubully magent to be they eate are wain area inverpep about the bleed; becweesthy exconsers.\n",
      "\n",
      "==Thestants= wemere comel have been day forest lunges to 85 the whitae to throee habor, attreas. Nain formil \n",
      "\n",
      "\n",
      "Text from LSTM 400x2:\n",
      "\n",
      "\n",
      "The '''Offhen snowfinch''' (''Pnrmisur'' appict-vigualy, 'ACrea toughthy, Gowe moth ocogishallys, and prefend nom the menge, the forver past\"-mish brown with ock. Its conss unvall in uncer anioparce treits Cave a \"blest. Foffleed astect perted equabies. It clacaly isuass.\n",
      "\n",
      "==Distribucises fands mongly preperred CIbperrance fomation, in Afgharistants parrous,  long has noct eatily used beck and blowasing make hentabo averalascative most cavenn or its haid during echambs ferese the snances is ackons)\n",
      "\n",
      "\n",
      "Text from LSTM 400x3:\n",
      "\n",
      "\n",
      "The '''Safferrar pornest, the Mahicar, and e6cmemahes). Af oft '144 mhy aardvark'', is mear lusten of ants talner and the southern waodenasticy brand. Fum bupfaloes at mem opupally than individue, as it ampact of the gajreas hong. Both smalles made pame incumam, it forms of the sive in South species hame hasing, and they have a some lorespear tapeds, urrom its inculation, is bapfanoause faralints of eatorian 15thicy.\n",
      "\n",
      "==Co1boti=f and ''E. 1. habothy or Pobser if the ynnows and fliked brock-evance. \n",
      "\n",
      "\n",
      "Text from LSTM 400x4:\n",
      "\n",
      "\n",
      "The '''African b'bapio'a, ''En accara''' ir foood foraly '''Thiphs''fe''. as and a spepies is grikes, feasu stich is ans masule hithers, pepings and than lorger.\n",
      "\n",
      "Atonser is a. Whiesed proand golm woodpeckers, coub. In savan tape commer hoaoly fires or sike wage (000. howabded lerges, exthrosuunerywed, and the cupppy of soulh shout aciinly ungersicy of atparfer that cust sear jhown, the caplise gova, being prufagitely for the afongal lardes, sosemes. If souke \"ussecpaes, and oocapkan, logse, altorn\n"
     ]
    }
   ],
   "source": [
    "for model, label in zip(lstms, labels):\n",
    "    print(f'\\n\\nText from LSTM {label}:\\n\\n')\n",
    "    print(models.predict(model, encoding, \"The\", 500))"
   ]
  },
  {
   "cell_type": "code",
   "execution_count": null,
   "metadata": {},
   "outputs": [],
   "source": []
  }
 ],
 "metadata": {
  "kernelspec": {
   "display_name": "Python 3",
   "language": "python",
   "name": "python3"
  },
  "language_info": {
   "codemirror_mode": {
    "name": "ipython",
    "version": 3
   },
   "file_extension": ".py",
   "mimetype": "text/x-python",
   "name": "python",
   "nbconvert_exporter": "python",
   "pygments_lexer": "ipython3",
   "version": "3.7.3"
  }
 },
 "nbformat": 4,
 "nbformat_minor": 2
}
