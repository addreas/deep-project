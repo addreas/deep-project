{
 "cells": [
  {
   "cell_type": "markdown",
   "metadata": {},
   "source": [
    "\n",
    "# Boop boop"
   ]
  },
  {
   "cell_type": "code",
   "execution_count": 1,
   "metadata": {},
   "outputs": [],
   "source": [
    "import numpy as np\n",
    "import torch\n",
    "import torch.nn as nn\n",
    "import torch.nn.functional as F\n",
    "import torch.optim as optim\n",
    "import matplotlib.pyplot as plt\n",
    "\n",
    "import importlib\n",
    "\n",
    "import utils\n",
    "import models"
   ]
  },
  {
   "cell_type": "code",
   "execution_count": 2,
   "metadata": {},
   "outputs": [],
   "source": [
    "train_articles = utils.load_articles('wikitext-103-raw/wiki.train.raw')\n",
    "valid_articles = utils.load_articles('wikitext-103-raw/wiki.valid.raw')\n",
    "test_articles = utils.load_articles('wikitext-103-raw/wiki.test.raw')"
   ]
  },
  {
   "cell_type": "code",
   "execution_count": 103,
   "metadata": {
    "scrolled": true
   },
   "outputs": [],
   "source": [
    "importlib.reload(utils)\n",
    "# char_encoding = utils.get_encoding(train_articles + valid_articles + test_articles)\n",
    "char_encoding = utils.get_encoding(valid_articles)\n",
    "char2int, int2char, int2hot, str2hot, hot2int, hot2str = char_encoding"
   ]
  },
  {
   "cell_type": "code",
   "execution_count": 68,
   "metadata": {},
   "outputs": [
    {
     "data": {
      "text/plain": [
       "'This is a string with words'"
      ]
     },
     "execution_count": 68,
     "metadata": {},
     "output_type": "execute_result"
    }
   ],
   "source": [
    "hot2str(str2hot(\"This is a string with words\"))"
   ]
  },
  {
   "cell_type": "code",
   "execution_count": 104,
   "metadata": {},
   "outputs": [],
   "source": [
    "importlib.reload(models)\n",
    "\n",
    "rnn_net_25 = models.RNNModule(len(char2int), 25)\n",
    "rnn_net_50 = models.RNNModule(len(char2int), 50)\n",
    "rnn_net_100 = models.RNNModule(len(char2int), 100)\n",
    "\n",
    "lstm_net_25 = models.LSTMModule(len(char2int), 25)\n",
    "lstm_net_50 = models.LSTMModule(len(char2int), 50)\n",
    "lstm_net_100 = models.LSTMModule(len(char2int), 100)"
   ]
  },
  {
   "cell_type": "code",
   "execution_count": 116,
   "metadata": {},
   "outputs": [
    {
     "data": {
      "text/plain": [
       "Counter({' ': 214791,\n",
       "         '\\n': 3714,\n",
       "         '=': 2876,\n",
       "         'H': 1757,\n",
       "         'o': 60524,\n",
       "         'm': 19340,\n",
       "         'a': 71422,\n",
       "         'r': 55077,\n",
       "         'u': 22010,\n",
       "         's': 51059,\n",
       "         'g': 16820,\n",
       "         ',': 10331,\n",
       "         'k': 5540,\n",
       "         'n': 62586,\n",
       "         'w': 13553,\n",
       "         't': 73176,\n",
       "         'h': 39711,\n",
       "         'e': 102047,\n",
       "         'E': 974,\n",
       "         'p': 15134,\n",
       "         'l': 33458,\n",
       "         'b': 10697,\n",
       "         'c': 25239,\n",
       "         'i': 60717,\n",
       "         'f': 17835,\n",
       "         'd': 33422,\n",
       "         'A': 3861,\n",
       "         'O': 905,\n",
       "         'M': 2882,\n",
       "         'S': 4003,\n",
       "         'B': 2544,\n",
       "         '.': 8842,\n",
       "         'I': 2041,\n",
       "         'y': 12650,\n",
       "         '6': 982,\n",
       "         '0': 3474,\n",
       "         '(': 1127,\n",
       "         '2': 2518,\n",
       "         '4': 1010,\n",
       "         ')': 1125,\n",
       "         '1': 3867,\n",
       "         '3': 1143,\n",
       "         '\"': 2507,\n",
       "         'v': 8322,\n",
       "         'D': 1488,\n",
       "         '5': 1242,\n",
       "         '–': 355,\n",
       "         '8': 1296,\n",
       "         '9': 2267,\n",
       "         '@': 5005,\n",
       "         '7': 1108,\n",
       "         'L': 1060,\n",
       "         'x': 1395,\n",
       "         'T': 4204,\n",
       "         ';': 348,\n",
       "         'U': 826,\n",
       "         ':': 261,\n",
       "         '-': 1888,\n",
       "         'F': 1327,\n",
       "         'z': 844,\n",
       "         'j': 821,\n",
       "         'W': 1220,\n",
       "         'N': 1569,\n",
       "         'C': 2989,\n",
       "         'Z': 257,\n",
       "         'q': 768,\n",
       "         '%': 65,\n",
       "         \"'\": 1830,\n",
       "         'P': 1541,\n",
       "         'R': 2004,\n",
       "         '°': 40,\n",
       "         '′': 14,\n",
       "         'G': 1137,\n",
       "         'V': 470,\n",
       "         'J': 1159,\n",
       "         'K': 742,\n",
       "         'Y': 265,\n",
       "         'Q': 65,\n",
       "         '/': 124,\n",
       "         '奈': 1,\n",
       "         '良': 1,\n",
       "         'シ': 1,\n",
       "         'カ': 1,\n",
       "         'マ': 1,\n",
       "         'ル': 1,\n",
       "         '影': 1,\n",
       "         '真': 1,\n",
       "         '似': 1,\n",
       "         'の': 1,\n",
       "         '術': 1,\n",
       "         'ō': 19,\n",
       "         'ū': 2,\n",
       "         '!': 52,\n",
       "         'X': 58,\n",
       "         '&': 21,\n",
       "         '—': 161,\n",
       "         '$': 74,\n",
       "         '<': 3,\n",
       "         'é': 32,\n",
       "         '[': 52,\n",
       "         ']': 52,\n",
       "         'ó': 5,\n",
       "         '‘': 2,\n",
       "         '’': 34,\n",
       "         'ø': 2,\n",
       "         'ü': 16,\n",
       "         '?': 22,\n",
       "         'á': 48,\n",
       "         '−': 2,\n",
       "         'í': 21,\n",
       "         '♭': 6,\n",
       "         '*': 2,\n",
       "         'μ': 2,\n",
       "         'υ': 2,\n",
       "         'ö': 7,\n",
       "         '£': 37,\n",
       "         'ë': 3,\n",
       "         'မ': 3,\n",
       "         'ွ': 1,\n",
       "         'န': 3,\n",
       "         '်': 5,\n",
       "         'ဂ': 2,\n",
       "         'ိ': 2,\n",
       "         'ု': 2,\n",
       "         'ြ': 1,\n",
       "         'ာ': 2,\n",
       "         'စ': 2,\n",
       "         '၁': 2,\n",
       "         '၂': 2,\n",
       "         '၇': 3,\n",
       "         '၈': 1,\n",
       "         'Đ': 1,\n",
       "         'ạ': 1,\n",
       "         'ệ': 1,\n",
       "         'တ': 3,\n",
       "         'ရ': 2,\n",
       "         'အ': 1,\n",
       "         'ပ': 1,\n",
       "         '征': 1,\n",
       "         '緬': 2,\n",
       "         '中': 2,\n",
       "         '“': 4,\n",
       "         '”': 6,\n",
       "         '္': 1,\n",
       "         'လ': 1,\n",
       "         'ဇ': 1,\n",
       "         '″': 10,\n",
       "         '¾': 2,\n",
       "         'ˈ': 1,\n",
       "         'ä': 4,\n",
       "         'ú': 1,\n",
       "         'ñ': 3,\n",
       "         'ç': 3,\n",
       "         '+': 4,\n",
       "         '朝': 1,\n",
       "         '日': 1,\n",
       "         'É': 4,\n",
       "         'ā': 28,\n",
       "         '₤': 1,\n",
       "         '胡': 1,\n",
       "         '正': 5,\n",
       "         '言': 1,\n",
       "         '心': 1,\n",
       "         '無': 1,\n",
       "         '所': 1,\n",
       "         '雞': 1,\n",
       "         '籠': 1,\n",
       "         '山': 1,\n",
       "         '十': 3,\n",
       "         '竹': 3,\n",
       "         '齋': 3,\n",
       "         '行': 1,\n",
       "         '子': 2,\n",
       "         '著': 1,\n",
       "         '其': 2,\n",
       "         '樸': 1,\n",
       "         '毅': 1,\n",
       "         '致': 1,\n",
       "         '果': 1,\n",
       "         '書': 6,\n",
       "         '舍': 1,\n",
       "         '人': 2,\n",
       "         '南': 1,\n",
       "         '疆': 1,\n",
       "         '繹': 1,\n",
       "         '史': 1,\n",
       "         '御': 1,\n",
       "         '頒': 1,\n",
       "         '小': 1,\n",
       "         '學': 1,\n",
       "         '表': 2,\n",
       "         '忠': 2,\n",
       "         '記': 1,\n",
       "         '印': 4,\n",
       "         '傳': 2,\n",
       "         '大': 1,\n",
       "         '寶': 1,\n",
       "         '駢': 1,\n",
       "         '體': 1,\n",
       "         '萬': 1,\n",
       "         '病': 1,\n",
       "         '驗': 1,\n",
       "         '方': 1,\n",
       "         '皇': 2,\n",
       "         '明': 2,\n",
       "         '紀': 1,\n",
       "         '詔': 1,\n",
       "         '制': 1,\n",
       "         '迪': 1,\n",
       "         '古': 2,\n",
       "         '堂': 1,\n",
       "         '饾': 1,\n",
       "         '板': 3,\n",
       "         '刷': 2,\n",
       "         '套': 1,\n",
       "         '拱': 2,\n",
       "         '花': 1,\n",
       "         '蘿': 1,\n",
       "         '軒': 1,\n",
       "         '變': 1,\n",
       "         '箋': 2,\n",
       "         '譜': 3,\n",
       "         '畫': 2,\n",
       "         '蝴': 1,\n",
       "         '蝶': 1,\n",
       "         '裝': 2,\n",
       "         '芥': 1,\n",
       "         '園': 1,\n",
       "         '錦': 1,\n",
       "         '絵': 1,\n",
       "         '包': 1,\n",
       "         '背': 1,\n",
       "         '六': 2,\n",
       "         '譌': 1,\n",
       "         '法': 1,\n",
       "         '必': 1,\n",
       "         '稽': 1,\n",
       "         '四': 1,\n",
       "         '定': 1,\n",
       "         '本': 1,\n",
       "         '辨': 1,\n",
       "         '千': 1,\n",
       "         '文': 1,\n",
       "         '統': 2,\n",
       "         '要': 1,\n",
       "         '詩': 2,\n",
       "         '譚': 1,\n",
       "         '類': 1,\n",
       "         '選': 1,\n",
       "         '唐': 1,\n",
       "         '助': 1,\n",
       "         '道': 1,\n",
       "         '微': 1,\n",
       "         '機': 1,\n",
       "         '牌': 1,\n",
       "         '浮': 1,\n",
       "         '玉': 1,\n",
       "         'Î': 2,\n",
       "         'Á': 1,\n",
       "         'û': 1,\n",
       "         'ě': 3,\n",
       "         'š': 10,\n",
       "         '~': 2,\n",
       "         'ž': 5,\n",
       "         'ř': 16,\n",
       "         'ý': 7,\n",
       "         'Č': 1,\n",
       "         'č': 1,\n",
       "         '‑': 67,\n",
       "         'ã': 2,\n",
       "         '>': 2,\n",
       "         '⁄': 2,\n",
       "         '½': 3,\n",
       "         'Ō': 1,\n",
       "         'è': 2,\n",
       "         '²': 1,\n",
       "         'Ú': 1,\n",
       "         '♯': 1,\n",
       "         'π': 2,\n",
       "         'β': 9,\n",
       "         'α': 5,\n",
       "         'γ': 1,\n",
       "         'δ': 1,\n",
       "         'ʻ': 1})"
      ]
     },
     "execution_count": 116,
     "metadata": {},
     "output_type": "execute_result"
    }
   ],
   "source": [
    "from collections import Counter\n",
    "Counter(\"\".join(valid_articles))"
   ]
  },
  {
   "cell_type": "code",
   "execution_count": 106,
   "metadata": {},
   "outputs": [
    {
     "name": "stderr",
     "output_type": "stream",
     "text": [
      "/usr/local/lib/python3.7/site-packages/numpy/core/fromnumeric.py:3118: RuntimeWarning: Mean of empty slice.\n",
      "  out=out, **kwargs)\n",
      "/usr/local/lib/python3.7/site-packages/numpy/core/_methods.py:85: RuntimeWarning: invalid value encountered in double_scalars\n",
      "  ret = ret.dtype.type(ret / rcount)\n"
     ]
    },
    {
     "name": "stdout",
     "output_type": "stream",
     "text": [
      "Article 20/41. Time per article: 6.55s Traing interrupted....\r"
     ]
    }
   ],
   "source": [
    "#train rnn_net_25\n",
    "losses_rnn_25 = models.train(rnn_net_25, valid_articles, char_encoding)"
   ]
  },
  {
   "cell_type": "code",
   "execution_count": 107,
   "metadata": {},
   "outputs": [
    {
     "data": {
      "image/png": "[encoded data removed]",
      "text/plain": [
       "<Figure size 432x288 with 1 Axes>"
      ]
     },
     "metadata": {
      "needs_background": "light"
     },
     "output_type": "display_data"
    }
   ],
   "source": [
    "plt.plot(losses_rnn_25)\n",
    "plt.show()"
   ]
  },
  {
   "cell_type": "code",
   "execution_count": 108,
   "metadata": {},
   "outputs": [
    {
     "data": {
      "text/plain": [
       "'方方方方方方方方方方方方方方方方方方方方方方方方方方方方方方方方方方方方方方方方方方方方方方方方方方方方方方方方方方方方方方方方方方方方方方方方方方方方方方方方方方方方方方方方方方方方方方方方方方方方'"
      ]
     },
     "execution_count": 108,
     "metadata": {},
     "output_type": "execute_result"
    }
   ],
   "source": [
    "hot2str(list(models.predict(rnn_net_25, char_encoding, \"Very cool\")))"
   ]
  },
  {
   "cell_type": "code",
   "execution_count": 78,
   "metadata": {
    "scrolled": true
   },
   "outputs": [
    {
     "name": "stdout",
     "output_type": "stream",
     "text": [
      "Interrupted training at article 9: 9.5s getting tensors......rs...\n"
     ]
    }
   ],
   "source": [
    "#train rnn_net_50\n",
    "losses_rnn_50 = models.train(rnn_net_50, train_articles, char_encoding)"
   ]
  },
  {
   "cell_type": "code",
   "execution_count": 79,
   "metadata": {},
   "outputs": [
    {
     "data": {
      "image/png": "[encoded data removed]",
      "text/plain": [
       "<Figure size 432x288 with 1 Axes>"
      ]
     },
     "metadata": {
      "needs_background": "light"
     },
     "output_type": "display_data"
    }
   ],
   "source": [
    "plt.plot(losses_rnn_50)\n",
    "plt.show()"
   ]
  },
  {
   "cell_type": "code",
   "execution_count": 91,
   "metadata": {},
   "outputs": [
    {
     "data": {
      "text/plain": [
       "'濞濞濞濞濞濞濞濞濞濞濞濞濞濞濞濞濞濞濞濞濞濞濞濞濞濞濞濞濞濞濞濞濞濞濞濞濞濞濞濞濞濞濞濞濞濞濞濞濞濞濞濞濞濞濞濞濞濞濞濞濞濞濞濞濞濞濞濞濞濞濞濞濞濞濞濞濞濞濞濞濞濞濞濞濞濞濞濞濞濞濞濞濞濞濞濞濞濞濞濞'"
      ]
     },
     "execution_count": 91,
     "metadata": {},
     "output_type": "execute_result"
    }
   ],
   "source": [
    "hot2str(list(models.predict(rnn_net_50, char_encoding, \"Wow\")))"
   ]
  },
  {
   "cell_type": "code",
   "execution_count": 85,
   "metadata": {},
   "outputs": [
    {
     "name": "stdout",
     "output_type": "stream",
     "text": [
      "Interrupted training at article 10: 24.62s calculating loss.....\n"
     ]
    }
   ],
   "source": [
    "#train rnn_net_100\n",
    "losses_rnn_100 = models.train(rnn_net_100, train_articles, char_encoding)"
   ]
  },
  {
   "cell_type": "code",
   "execution_count": 86,
   "metadata": {},
   "outputs": [
    {
     "data": {
      "image/png": "[encoded data removed]",
      "text/plain": [
       "<Figure size 432x288 with 1 Axes>"
      ]
     },
     "metadata": {
      "needs_background": "light"
     },
     "output_type": "display_data"
    }
   ],
   "source": [
    "plt.plot(losses_rnn_100)\n",
    "plt.show()"
   ]
  },
  {
   "cell_type": "code",
   "execution_count": 92,
   "metadata": {},
   "outputs": [
    {
     "data": {
      "text/plain": [
       "'磲磲磲磲磲磲磲磲磲磲磲磲磲磲磲磲磲磲磲磲磲磲磲磲磲磲磲磲磲磲磲磲磲磲磲磲磲磲磲磲磲磲磲磲磲磲磲磲磲磲磲磲磲磲磲磲磲磲磲磲磲磲磲磲磲磲磲磲磲磲磲磲磲磲磲磲磲磲磲磲磲磲磲磲磲磲磲磲磲磲磲磲磲磲磲磲磲磲磲磲'"
      ]
     },
     "execution_count": 92,
     "metadata": {},
     "output_type": "execute_result"
    }
   ],
   "source": [
    "hot2str(list(models.predict(rnn_net_100, char_encoding, \"This totally works\")))"
   ]
  },
  {
   "cell_type": "code",
   "execution_count": 93,
   "metadata": {},
   "outputs": [
    {
     "name": "stdout",
     "output_type": "stream",
     "text": [
      "Interrupted training at article 10.............ward pass........\n"
     ]
    }
   ],
   "source": [
    "#train lstm_net_25\n",
    "losses_lstm_25 = models.train(lstm_net_25, train_articles, char_encoding)"
   ]
  },
  {
   "cell_type": "code",
   "execution_count": 94,
   "metadata": {},
   "outputs": [
    {
     "data": {
      "image/png": "[encoded data removed]",
      "text/plain": [
       "<Figure size 432x288 with 1 Axes>"
      ]
     },
     "metadata": {
      "needs_background": "light"
     },
     "output_type": "display_data"
    }
   ],
   "source": [
    "plt.plot(losses_lstm_25)\n",
    "plt.show()"
   ]
  },
  {
   "cell_type": "code",
   "execution_count": 95,
   "metadata": {},
   "outputs": [
    {
     "data": {
      "text/plain": [
       "'@ddddddddddddddddddddddddddddddddddddddddddddddddddddddddddddddddddddddddddddddddddddddddddddddddddd'"
      ]
     },
     "execution_count": 95,
     "metadata": {},
     "output_type": "execute_result"
    }
   ],
   "source": [
    "hot2str(list(models.predict(lstm_net_25, char_encoding, \"This totally works\")))"
   ]
  },
  {
   "cell_type": "code",
   "execution_count": null,
   "metadata": {},
   "outputs": [],
   "source": [
    "#train lstm_net_50\n",
    "losses_lstm_50 = models.train(lstm_net_50, train_articles, char_encoding)"
   ]
  },
  {
   "cell_type": "code",
   "execution_count": 106,
   "metadata": {},
   "outputs": [
    {
     "data": {
      "image/png": "[encoded data removed]",
      "text/plain": [
       "<Figure size 432x288 with 1 Axes>"
      ]
     },
     "metadata": {
      "needs_background": "light"
     },
     "output_type": "display_data"
    }
   ],
   "source": [
    "plt.plot(losses_lstm_50)\n",
    "plt.show()"
   ]
  },
  {
   "cell_type": "code",
   "execution_count": 9,
   "metadata": {},
   "outputs": [],
   "source": [
    "#train lstm_net_100\n",
    "losses_lstm_100 = models.train(lstm_net_100, train_articles, char_encoding)"
   ]
  },
  {
   "cell_type": "code",
   "execution_count": null,
   "metadata": {},
   "outputs": [],
   "source": [
    "plt.plot(losses_lstm_100)\n",
    "plt.show()"
   ]
  }
 ],
 "metadata": {
  "kernelspec": {
   "display_name": "Python 3",
   "language": "python",
   "name": "python3"
  },
  "language_info": {
   "codemirror_mode": {
    "name": "ipython",
    "version": 3
   },
   "file_extension": ".py",
   "mimetype": "text/x-python",
   "name": "python",
   "nbconvert_exporter": "python",
   "pygments_lexer": "ipython3",
   "version": "3.7.3"
  }
 },
 "nbformat": 4,
 "nbformat_minor": 2
}
