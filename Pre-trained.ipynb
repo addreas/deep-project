{
 "cells": [
  {
   "cell_type": "code",
   "execution_count": 9,
   "metadata": {},
   "outputs": [],
   "source": [
    "import pickle\n",
    "import numpy as np\n",
    "import torch\n",
    "\n",
    "import utils\n",
    "import models"
   ]
  },
  {
   "cell_type": "code",
   "execution_count": 10,
   "metadata": {},
   "outputs": [],
   "source": [
    "with open('models/encoding', 'rb') as f:\n",
    "    encoding = pickle.load(f)\n",
    "char2int, int2char = encoding"
   ]
  },
  {
   "cell_type": "code",
   "execution_count": 11,
   "metadata": {},
   "outputs": [],
   "source": [
    "sizes = [\n",
    "    (100, 2),\n",
    "    (100, 4),\n",
    "    (200, 2),\n",
    "    (400, 2),\n",
    "    (400, 3),\n",
    "    (400, 4)\n",
    "]\n",
    "\n",
    "labels = [ f'{h}x{d}' for h, d in sizes ]\n",
    "\n",
    "rnns = [ models.RNNModule(len(char2int), h, d) for h, d in sizes ]\n",
    "\n",
    "lstms = [ models.LSTMModule(len(char2int), h, d) for h, d in sizes ]"
   ]
  },
  {
   "cell_type": "code",
   "execution_count": 12,
   "metadata": {},
   "outputs": [],
   "source": [
    "def load_model(model, filename):\n",
    "    #https://pytorch.org/tutorials/beginner/saving_loading_models.html#saving-loading-model-across-devices\n",
    "    device = torch.device('cuda' if torch.cuda.is_available() else 'cpu')\n",
    "    model.load_state_dict(torch.load(filename, map_location=device))\n",
    "    model.to(device)\n",
    "    model.device = device\n",
    "\n",
    "for model, label in zip(rnns, labels):\n",
    "    load_model(model, f'models/rnn_{label}')\n",
    "\n",
    "for model, label in zip(lstms, labels):\n",
    "    load_model(model, f'models/lstm_{label}')"
   ]
  },
  {
   "cell_type": "code",
   "execution_count": 13,
   "metadata": {},
   "outputs": [
    {
     "name": "stdout",
     "output_type": "stream",
     "text": [
      "The '''Abyssate than farter and car tlan size of Amadals the bate sulbano in nor.\n",
      "\n",
      "==The persh it is comssinian and cantureus'' yiygriyepfed the male has mutwean gralgern, but thearing ostains rets. Pitcembasit a wive the kid in Mayned ot camie,  SCapped that tu contares, and is thrid, E'joloult in a binkritald''' Sears. It rayn can in the burroy lonl. The pide, thele, while cape tushing often fow to whote it tergher, which as 9omilar in-a cocuvive Mininals, reebieg 1congernuttle occpioc ped mocarmanod in be swiph to onpecies of durare backinnes'' hasceed an Abithe. Of ruuntoriting areas fyparts topuonpen collerbland, billares, and with Husclubated afpy descricted in the furkhes, woodpacks that leng species are fount mollaties in its sod ance suble as a perarions are than other area rut caured rads (Africans acormes wied heltered guq ascelation and which groupfiliad, wingspinct that lows. Feme Back bueds imor banme of manies of In the Abyssinian (ranter, two losss ond efmect to mormulor L\n"
     ]
    }
   ],
   "source": [
    "print(models.predict(rnns[1], encoding, \"The\", 1000))"
   ]
  },
  {
   "cell_type": "code",
   "execution_count": null,
   "metadata": {},
   "outputs": [],
   "source": []
  }
 ],
 "metadata": {
  "kernelspec": {
   "display_name": "Python 3",
   "language": "python",
   "name": "python3"
  },
  "language_info": {
   "codemirror_mode": {
    "name": "ipython",
    "version": 3
   },
   "file_extension": ".py",
   "mimetype": "text/x-python",
   "name": "python",
   "nbconvert_exporter": "python",
   "pygments_lexer": "ipython3",
   "version": "3.7.3"
  }
 },
 "nbformat": 4,
 "nbformat_minor": 2
}
