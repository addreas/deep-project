{
 "cells": [
  {
   "cell_type": "code",
   "execution_count": 5,
   "metadata": {},
   "outputs": [],
   "source": [
    "import numpy as np\n",
    "import torch\n",
    "\n",
    "import utils\n",
    "import models"
   ]
  },
  {
   "cell_type": "code",
   "execution_count": 19,
   "metadata": {},
   "outputs": [
    {
     "data": {
      "text/plain": [
       "<module 'parse_data' from '/home/addem/Documents/deep-project/parse_data.py'>"
      ]
     },
     "execution_count": 19,
     "metadata": {},
     "output_type": "execute_result"
    }
   ],
   "source": [
    "import parse_data\n",
    "import importlib\n",
    "importlib.reload(parse_data)"
   ]
  },
  {
   "cell_type": "code",
   "execution_count": 20,
   "metadata": {},
   "outputs": [],
   "source": [
    "with open('models/encoding.pickle', 'r') as f: encoding = pickle.load(f)\n",
    "char2int, int2char, int2hot, str2hot, hot2int, hot2str = encoding"
   ]
  },
  {
   "cell_type": "code",
   "execution_count": 21,
   "metadata": {},
   "outputs": [
    {
     "data": {
      "text/plain": [
       "88"
      ]
     },
     "execution_count": 21,
     "metadata": {},
     "output_type": "execute_result"
    }
   ],
   "source": [
    "hot_size = len(char2int)\n",
    "\n",
    "rnn_net_100 = models.RNNModule(hot_size, 100)\n",
    "rnn_net_100_2 = models.RNNModule(hot_size, 100, 2)\n",
    "rnn_net_100_3 = models.RNNModule(hot_size, 100, 3)\n",
    "rnn_net_200 = models.RNNModule(hot_size, 200)\n",
    "rnn_net_400_2 = models.RNNModule(hot_size, 400, 2)\n",
    "rnn_net_400_4 = models.RNNModule(hot_size, 400, 4)\n",
    "\n",
    "lstm_net_100 = models.LSTMModule(hot_size, 100)\n",
    "# lstm_net_100_2 = models.LSTMModule(hot_size, 100, 2)\n",
    "# lstm_net_100_3 = models.LSTMModule(hot_size, 100, 3)\n",
    "# lstm_net_200_ = models.LSTMModule(hot_size, 200)\n",
    "# lstm_net_400_2 = models.LSTMModule(hot_size, 400, 2)\n",
    "# lstm_net_400_4 = models.LSTMModule(hot_size, 400, 4)\n",
    "\n",
    "hot_size"
   ]
  },
  {
   "cell_type": "code",
   "execution_count": 18,
   "metadata": {},
   "outputs": [
    {
     "ename": "RuntimeError",
     "evalue": "Error(s) in loading state_dict for RNNModule:\n\tsize mismatch for rnn.weight_ih_l0: copying a param with shape torch.Size([100, 89]) from checkpoint, the shape in current model is torch.Size([100, 88]).\n\tsize mismatch for output.weight: copying a param with shape torch.Size([89, 100]) from checkpoint, the shape in current model is torch.Size([88, 100]).\n\tsize mismatch for output.bias: copying a param with shape torch.Size([89]) from checkpoint, the shape in current model is torch.Size([88]).",
     "output_type": "error",
     "traceback": [
      "\u001b[0;31m---------------------------------------------------------------------------\u001b[0m",
      "\u001b[0;31mRuntimeError\u001b[0m                              Traceback (most recent call last)",
      "\u001b[0;32m<ipython-input-18-4c69c6024214>\u001b[0m in \u001b[0;36m<module>\u001b[0;34m\u001b[0m\n\u001b[1;32m      6\u001b[0m     \u001b[0mmodel\u001b[0m\u001b[0;34m.\u001b[0m\u001b[0mdevice\u001b[0m \u001b[0;34m=\u001b[0m \u001b[0mdevice\u001b[0m\u001b[0;34m\u001b[0m\u001b[0;34m\u001b[0m\u001b[0m\n\u001b[1;32m      7\u001b[0m \u001b[0;34m\u001b[0m\u001b[0m\n\u001b[0;32m----> 8\u001b[0;31m \u001b[0mload_model\u001b[0m\u001b[0;34m(\u001b[0m\u001b[0mrnn_net_100\u001b[0m\u001b[0;34m,\u001b[0m \u001b[0;34m'models/rnn_net_100.pickle'\u001b[0m\u001b[0;34m)\u001b[0m\u001b[0;34m\u001b[0m\u001b[0;34m\u001b[0m\u001b[0m\n\u001b[0m\u001b[1;32m      9\u001b[0m \u001b[0mload_model\u001b[0m\u001b[0;34m(\u001b[0m\u001b[0mrnn_net_100_2\u001b[0m\u001b[0;34m,\u001b[0m \u001b[0;34m'models/rnn_net_100_2.pickle'\u001b[0m\u001b[0;34m)\u001b[0m\u001b[0;34m\u001b[0m\u001b[0;34m\u001b[0m\u001b[0m\n\u001b[1;32m     10\u001b[0m \u001b[0mload_model\u001b[0m\u001b[0;34m(\u001b[0m\u001b[0mrnn_net_100_3\u001b[0m\u001b[0;34m,\u001b[0m \u001b[0;34m'models/rnn_net_100_3.pickle'\u001b[0m\u001b[0;34m)\u001b[0m\u001b[0;34m\u001b[0m\u001b[0;34m\u001b[0m\u001b[0m\n",
      "\u001b[0;32m<ipython-input-18-4c69c6024214>\u001b[0m in \u001b[0;36mload_model\u001b[0;34m(model, filename)\u001b[0m\n\u001b[1;32m      2\u001b[0m     \u001b[0;31m#https://pytorch.org/tutorials/beginner/saving_loading_models.html#saving-loading-model-across-devices\u001b[0m\u001b[0;34m\u001b[0m\u001b[0;34m\u001b[0m\u001b[0;34m\u001b[0m\u001b[0m\n\u001b[1;32m      3\u001b[0m     \u001b[0mdevice\u001b[0m \u001b[0;34m=\u001b[0m \u001b[0mtorch\u001b[0m\u001b[0;34m.\u001b[0m\u001b[0mdevice\u001b[0m\u001b[0;34m(\u001b[0m\u001b[0;34m'cuda'\u001b[0m \u001b[0;32mif\u001b[0m \u001b[0mtorch\u001b[0m\u001b[0;34m.\u001b[0m\u001b[0mcuda\u001b[0m\u001b[0;34m.\u001b[0m\u001b[0mis_available\u001b[0m\u001b[0;34m(\u001b[0m\u001b[0;34m)\u001b[0m \u001b[0;32melse\u001b[0m \u001b[0;34m'cpu'\u001b[0m\u001b[0;34m)\u001b[0m\u001b[0;34m\u001b[0m\u001b[0;34m\u001b[0m\u001b[0m\n\u001b[0;32m----> 4\u001b[0;31m     \u001b[0mmodel\u001b[0m\u001b[0;34m.\u001b[0m\u001b[0mload_state_dict\u001b[0m\u001b[0;34m(\u001b[0m\u001b[0mtorch\u001b[0m\u001b[0;34m.\u001b[0m\u001b[0mload\u001b[0m\u001b[0;34m(\u001b[0m\u001b[0mfilename\u001b[0m\u001b[0;34m)\u001b[0m\u001b[0;34m)\u001b[0m\u001b[0;34m\u001b[0m\u001b[0;34m\u001b[0m\u001b[0m\n\u001b[0m\u001b[1;32m      5\u001b[0m     \u001b[0mmodel\u001b[0m\u001b[0;34m.\u001b[0m\u001b[0mto\u001b[0m\u001b[0;34m(\u001b[0m\u001b[0mdevice\u001b[0m\u001b[0;34m)\u001b[0m\u001b[0;34m\u001b[0m\u001b[0;34m\u001b[0m\u001b[0m\n\u001b[1;32m      6\u001b[0m     \u001b[0mmodel\u001b[0m\u001b[0;34m.\u001b[0m\u001b[0mdevice\u001b[0m \u001b[0;34m=\u001b[0m \u001b[0mdevice\u001b[0m\u001b[0;34m\u001b[0m\u001b[0;34m\u001b[0m\u001b[0m\n",
      "\u001b[0;32m~/Documents/deep-project/venv/lib/python3.7/site-packages/torch/nn/modules/module.py\u001b[0m in \u001b[0;36mload_state_dict\u001b[0;34m(self, state_dict, strict)\u001b[0m\n\u001b[1;32m    775\u001b[0m         \u001b[0;32mif\u001b[0m \u001b[0mlen\u001b[0m\u001b[0;34m(\u001b[0m\u001b[0merror_msgs\u001b[0m\u001b[0;34m)\u001b[0m \u001b[0;34m>\u001b[0m \u001b[0;36m0\u001b[0m\u001b[0;34m:\u001b[0m\u001b[0;34m\u001b[0m\u001b[0;34m\u001b[0m\u001b[0m\n\u001b[1;32m    776\u001b[0m             raise RuntimeError('Error(s) in loading state_dict for {}:\\n\\t{}'.format(\n\u001b[0;32m--> 777\u001b[0;31m                                self.__class__.__name__, \"\\n\\t\".join(error_msgs)))\n\u001b[0m\u001b[1;32m    778\u001b[0m         \u001b[0;32mreturn\u001b[0m \u001b[0m_IncompatibleKeys\u001b[0m\u001b[0;34m(\u001b[0m\u001b[0mmissing_keys\u001b[0m\u001b[0;34m,\u001b[0m \u001b[0munexpected_keys\u001b[0m\u001b[0;34m)\u001b[0m\u001b[0;34m\u001b[0m\u001b[0;34m\u001b[0m\u001b[0m\n\u001b[1;32m    779\u001b[0m \u001b[0;34m\u001b[0m\u001b[0m\n",
      "\u001b[0;31mRuntimeError\u001b[0m: Error(s) in loading state_dict for RNNModule:\n\tsize mismatch for rnn.weight_ih_l0: copying a param with shape torch.Size([100, 89]) from checkpoint, the shape in current model is torch.Size([100, 88]).\n\tsize mismatch for output.weight: copying a param with shape torch.Size([89, 100]) from checkpoint, the shape in current model is torch.Size([88, 100]).\n\tsize mismatch for output.bias: copying a param with shape torch.Size([89]) from checkpoint, the shape in current model is torch.Size([88])."
     ]
    }
   ],
   "source": [
    "def load_model(model, filename):\n",
    "    #https://pytorch.org/tutorials/beginner/saving_loading_models.html#saving-loading-model-across-devices\n",
    "    device = torch.device('cuda' if torch.cuda.is_available() else 'cpu')\n",
    "    model.load_state_dict(torch.load(filename))\n",
    "    model.to(device)\n",
    "    model.device = device\n",
    "\n",
    "load_model(rnn_net_100, 'models/rnn_net_100.pickle')\n",
    "load_model(rnn_net_100_2, 'models/rnn_net_100_2.pickle')\n",
    "load_model(rnn_net_100_3, 'models/rnn_net_100_3.pickle')\n",
    "load_model(rnn_net_200, 'models/rnn_net_200.pickle')\n",
    "load_model(rnn_net_400_2, 'models/rnn_net_400_2.pickle')\n",
    "load_model(rnn_net_400_4, 'models/rnn_net_400_4.pickle')\n",
    "\n",
    "load_model(lstm_net_100, 'models/lstm_net_100.pickle')\n",
    "# load_model(lstm_net_100_2, 'models/lstm_net_100_2.pickle')\n",
    "# load_model(lstm_net_100_3, 'models/lstm_net_100_3.pickle')\n",
    "# load_model(lstm_net_200_, 'models/lstm_net_200_.pickle')\n",
    "# load_model(lstm_net_400_2, 'models/lstm_net_400_2.pickle')\n",
    "# load_model(lstm_net_400_4, 'models/lstm_net_400_4.pickle')"
   ]
  },
  {
   "cell_type": "code",
   "execution_count": null,
   "metadata": {},
   "outputs": [],
   "source": [
    "print(models.predict(rnn_net_100, encoding, \"The\", 1000))"
   ]
  }
 ],
 "metadata": {
  "kernelspec": {
   "display_name": "Python 3",
   "language": "python",
   "name": "python3"
  },
  "language_info": {
   "codemirror_mode": {
    "name": "ipython",
    "version": 3
   },
   "file_extension": ".py",
   "mimetype": "text/x-python",
   "name": "python",
   "nbconvert_exporter": "python",
   "pygments_lexer": "ipython3",
   "version": "3.7.3"
  }
 },
 "nbformat": 4,
 "nbformat_minor": 2
}
