{
 "cells": [
  {
   "cell_type": "code",
   "execution_count": 1,
   "metadata": {},
   "outputs": [],
   "source": [
    "import numpy as np\n",
    "import torch\n",
    "\n",
    "import utils\n",
    "import models"
   ]
  },
  {
   "cell_type": "code",
   "execution_count": 2,
   "metadata": {},
   "outputs": [],
   "source": [
    "from parse_data import articles_list"
   ]
  },
  {
   "cell_type": "code",
   "execution_count": 3,
   "metadata": {},
   "outputs": [],
   "source": [
    "encoding = utils.get_encoding(articles_list)\n",
    "char2int, int2char, int2hot, str2hot, hot2int, hot2str = encoding"
   ]
  },
  {
   "cell_type": "code",
   "execution_count": 4,
   "metadata": {},
   "outputs": [],
   "source": [
    "hot_size = len(char2int)\n",
    "\n",
    "rnn_net_100 = models.RNNModule(hot_size, 100)\n",
    "rnn_net_100_2 = models.RNNModule(hot_size, 100, 2)\n",
    "rnn_net_100_3 = models.RNNModule(hot_size, 100, 3)\n",
    "rnn_net_200 = models.RNNModule(hot_size, 200)\n",
    "rnn_net_400_2 = models.RNNModule(hot_size, 400, 2)\n",
    "rnn_net_400_4 = models.RNNModule(hot_size, 400, 4)\n",
    "\n",
    "lstm_net_100 = models.LSTMModule(hot_size, 100)\n",
    "lstm_net_100_2 = models.LSTMModule(hot_size, 100, 2)\n",
    "lstm_net_100_3 = models.LSTMModule(hot_size, 100, 3)\n",
    "lstm_net_200_ = models.LSTMModule(hot_size, 200)\n",
    "lstm_net_400_2 = models.LSTMModule(hot_size, 400, 2)\n",
    "lstm_net_400_4 = models.LSTMModule(hot_size, 400, 4)"
   ]
  },
  {
   "cell_type": "code",
   "execution_count": null,
   "metadata": {},
   "outputs": [],
   "source": [
    "def load_model(model, filename):\n",
    "    #https://pytorch.org/tutorials/beginner/saving_loading_models.html#saving-loading-model-across-devices\n",
    "    device = torch.device('cuda' if torch.cuda.is_available() else 'cpu')\n",
    "    model.load_state_dict(torch.load(filename, map_location=device))\n",
    "    model.to(device)\n",
    "    model.device = device\n",
    "\n",
    "load_model(rnn_net_100, 'models/rnn_net_100.pickle')\n",
    "load_model(rnn_net_100_2, 'models/rnn_net_100_2.pickle')\n",
    "load_model(rnn_net_100_3, 'models/rnn_net_100_3.pickle')\n",
    "load_model(rnn_net_200, 'models/rnn_net_200.pickle')\n",
    "load_model(rnn_net_400_2, 'models/rnn_net_400_2.pickle')\n",
    "load_model(rnn_net_400_4, 'models/rnn_net_400_4.pickle')\n",
    "\n",
    "load_model(lstm_net_100, 'models/lstm_net_100.pickle')\n",
    "load_model(lstm_net_100_2, 'models/lstm_net_100_2.pickle')\n",
    "load_model(lstm_net_100_3, 'models/lstm_net_100_3.pickle')\n",
    "load_model(lstm_net_200_, 'models/lstm_net_200_.pickle')\n",
    "load_model(lstm_net_400_2, 'models/lstm_net_400_2.pickle')\n",
    "load_model(lstm_net_400_4, 'models/lstm_net_400_4.pickle')"
   ]
  },
  {
   "cell_type": "code",
   "execution_count": null,
   "metadata": {},
   "outputs": [],
   "source": [
    "print(models.predict(rnn_net_100, encoding, \"The\", 1000))"
   ]
  }
 ],
 "metadata": {
  "kernelspec": {
   "display_name": "Python 3",
   "language": "python",
   "name": "python3"
  },
  "language_info": {
   "codemirror_mode": {
    "name": "ipython",
    "version": 3
   },
   "file_extension": ".py",
   "mimetype": "text/x-python",
   "name": "python",
   "nbconvert_exporter": "python",
   "pygments_lexer": "ipython3",
   "version": "3.7.3"
  }
 },
 "nbformat": 4,
 "nbformat_minor": 2
}
